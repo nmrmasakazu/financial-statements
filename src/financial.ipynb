{
 "metadata": {
  "language_info": {
   "codemirror_mode": {
    "name": "ipython",
    "version": 3
   },
   "file_extension": ".py",
   "mimetype": "text/x-python",
   "name": "python",
   "nbconvert_exporter": "python",
   "pygments_lexer": "ipython3",
   "version": "3.8.5-final"
  },
  "orig_nbformat": 2,
  "kernelspec": {
   "name": "python38564bitvenvvenv61f338c2a4714fcfad5eebff43e41361",
   "display_name": "Python 3.8.5 64-bit ('venv': venv)"
  }
 },
 "nbformat": 4,
 "nbformat_minor": 2,
 "cells": [
  {
   "cell_type": "code",
   "execution_count": 1,
   "metadata": {},
   "outputs": [],
   "source": [
    "import glob\n",
    "import os\n",
    "import pandas as pd\n",
    "# venv/libpython3.8/site-packages/arelle/Cntlr.pyの250行目home/nagatを書き換える必要あり\n",
    "# 私の場合は '/Users/masakazu/Desktop/financial-statements/venv/lib/python3.8/site-packages/arelle'\n",
    "from arelle import Cntlr\n",
    "from arelle import ModelManager\n",
    "\n",
    "# References\n",
    "# https://flat-kids.net/2020/02/29/edinet%E3%81%AExbrl%E3%81%8B%E3%82%89csv%E5%87%BA%E5%8A%9B/\n",
    "# https://qiita.com/XBRLJapan/items/b1e66f79d597df7b6037#1-xbrlデータから特定の情報を抽出する"
   ]
  },
  {
   "cell_type": "code",
   "execution_count": 2,
   "metadata": {
    "tags": []
   },
   "outputs": [],
   "source": [
    "xbrl_file_paths = glob.glob(\"../statements/ZHD/PublicDoc/*.xbrl\")\n",
    "ctrl = Cntlr.Cntlr()\n",
    "model_maneger = ModelManager.initialize(ctrl)\n",
    "model_xbrl = model_maneger.load(xbrl_file_paths[0])"
   ]
  },
  {
   "cell_type": "code",
   "execution_count": 3,
   "metadata": {},
   "outputs": [],
   "source": [
    "def get_value_with_name(name: str):\n",
    "    for fact in model_xbrl.facts:\n",
    "        if fact.concept.qname.localName == name:\n",
    "            print(name, fact.value)"
   ]
  },
  {
   "cell_type": "code",
   "execution_count": 4,
   "metadata": {
    "tags": []
   },
   "outputs": [
    {
     "output_type": "stream",
     "name": "stdout",
     "text": "FilerNameInJapaneseDEI Ｚホールディングス株式会社\nAverageAnnualSalaryInformationAboutReportingCompanyInformationAboutEmployees 11053036\n"
    }
   ],
   "source": [
    "get_value_with_name(\"FilerNameInJapaneseDEI\")\n",
    "get_value_with_name(\"AverageAnnualSalaryInformationAboutReportingCompanyInformationAboutEmployees\")"
   ]
  },
  {
   "cell_type": "code",
   "execution_count": 5,
   "metadata": {},
   "outputs": [],
   "source": [
    " # XBRLをDataFrameにセット\n",
    "fact_data_df = pd.DataFrame(data=[(\n",
    "                            fact.concept.qname.localName, \n",
    "                            fact.value, \n",
    "                            fact.isNumeric, \n",
    "                            fact.contextID,\n",
    "                            fact.decimals\n",
    "                        ) for fact in model_xbrl.facts ],\n",
    "                        columns=[\n",
    "                            'element_id',\n",
    "                            'value',\n",
    "                            'isNumeric',\n",
    "                            'contextID',\n",
    "                            'decimals'\n",
    "                        ]) "
   ]
  },
  {
   "cell_type": "code",
   "execution_count": 6,
   "metadata": {},
   "outputs": [
    {
     "output_type": "execute_result",
     "data": {
      "text/html": "<div>\n<style scoped>\n    .dataframe tbody tr th:only-of-type {\n        vertical-align: middle;\n    }\n\n    .dataframe tbody tr th {\n        vertical-align: top;\n    }\n\n    .dataframe thead th {\n        text-align: right;\n    }\n</style>\n<table border=\"1\" class=\"dataframe\">\n  <thead>\n    <tr style=\"text-align: right;\">\n      <th></th>\n      <th>element_id</th>\n      <th>value</th>\n      <th>isNumeric</th>\n      <th>contextID</th>\n      <th>decimals</th>\n    </tr>\n  </thead>\n  <tbody>\n    <tr>\n      <th>1164</th>\n      <td>ProfitLoss</td>\n      <td>91816000000</td>\n      <td>True</td>\n      <td>Prior1YearDuration_NonConsolidatedMember</td>\n      <td>-6</td>\n    </tr>\n    <tr>\n      <th>1165</th>\n      <td>ProfitLoss</td>\n      <td>30362000000</td>\n      <td>True</td>\n      <td>CurrentYearDuration_NonConsolidatedMember</td>\n      <td>-6</td>\n    </tr>\n    <tr>\n      <th>1187</th>\n      <td>ProfitLoss</td>\n      <td>91816000000</td>\n      <td>True</td>\n      <td>Prior1YearDuration_NonConsolidatedMember_Retai...</td>\n      <td>-6</td>\n    </tr>\n    <tr>\n      <th>1188</th>\n      <td>ProfitLoss</td>\n      <td>91816000000</td>\n      <td>True</td>\n      <td>Prior1YearDuration_NonConsolidatedMember_Retai...</td>\n      <td>-6</td>\n    </tr>\n    <tr>\n      <th>1189</th>\n      <td>ProfitLoss</td>\n      <td>91816000000</td>\n      <td>True</td>\n      <td>Prior1YearDuration_NonConsolidatedMember_Share...</td>\n      <td>-6</td>\n    </tr>\n    <tr>\n      <th>1212</th>\n      <td>ProfitLoss</td>\n      <td>91816000000</td>\n      <td>True</td>\n      <td>Prior1YearDuration_NonConsolidatedMember</td>\n      <td>-6</td>\n    </tr>\n    <tr>\n      <th>1247</th>\n      <td>ProfitLoss</td>\n      <td>30362000000</td>\n      <td>True</td>\n      <td>CurrentYearDuration_NonConsolidatedMember_Reta...</td>\n      <td>-6</td>\n    </tr>\n    <tr>\n      <th>1248</th>\n      <td>ProfitLoss</td>\n      <td>30362000000</td>\n      <td>True</td>\n      <td>CurrentYearDuration_NonConsolidatedMember_Reta...</td>\n      <td>-6</td>\n    </tr>\n    <tr>\n      <th>1249</th>\n      <td>ProfitLoss</td>\n      <td>30362000000</td>\n      <td>True</td>\n      <td>CurrentYearDuration_NonConsolidatedMember_Shar...</td>\n      <td>-6</td>\n    </tr>\n    <tr>\n      <th>1278</th>\n      <td>ProfitLoss</td>\n      <td>30362000000</td>\n      <td>True</td>\n      <td>CurrentYearDuration_NonConsolidatedMember</td>\n      <td>-6</td>\n    </tr>\n  </tbody>\n</table>\n</div>",
      "text/plain": "      element_id        value  isNumeric  \\\n1164  ProfitLoss  91816000000       True   \n1165  ProfitLoss  30362000000       True   \n1187  ProfitLoss  91816000000       True   \n1188  ProfitLoss  91816000000       True   \n1189  ProfitLoss  91816000000       True   \n1212  ProfitLoss  91816000000       True   \n1247  ProfitLoss  30362000000       True   \n1248  ProfitLoss  30362000000       True   \n1249  ProfitLoss  30362000000       True   \n1278  ProfitLoss  30362000000       True   \n\n                                              contextID decimals  \n1164           Prior1YearDuration_NonConsolidatedMember       -6  \n1165          CurrentYearDuration_NonConsolidatedMember       -6  \n1187  Prior1YearDuration_NonConsolidatedMember_Retai...       -6  \n1188  Prior1YearDuration_NonConsolidatedMember_Retai...       -6  \n1189  Prior1YearDuration_NonConsolidatedMember_Share...       -6  \n1212           Prior1YearDuration_NonConsolidatedMember       -6  \n1247  CurrentYearDuration_NonConsolidatedMember_Reta...       -6  \n1248  CurrentYearDuration_NonConsolidatedMember_Reta...       -6  \n1249  CurrentYearDuration_NonConsolidatedMember_Shar...       -6  \n1278          CurrentYearDuration_NonConsolidatedMember       -6  "
     },
     "metadata": {},
     "execution_count": 6
    }
   ],
   "source": [
    "fact_data_df[fact_data_df[\"element_id\"] == \"ProfitLoss\"]"
   ]
  },
  {
   "cell_type": "code",
   "execution_count": null,
   "metadata": {},
   "outputs": [],
   "source": []
  }
 ]
}