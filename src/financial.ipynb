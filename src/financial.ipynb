{
 "metadata": {
  "language_info": {
   "codemirror_mode": {
    "name": "ipython",
    "version": 3
   },
   "file_extension": ".py",
   "mimetype": "text/x-python",
   "name": "python",
   "nbconvert_exporter": "python",
   "pygments_lexer": "ipython3",
   "version": "3.8.5-final"
  },
  "orig_nbformat": 2,
  "kernelspec": {
   "name": "python38564bitvenvvenv61f338c2a4714fcfad5eebff43e41361",
   "display_name": "Python 3.8.5 64-bit ('venv': venv)"
  }
 },
 "nbformat": 4,
 "nbformat_minor": 2,
 "cells": [
  {
   "cell_type": "code",
   "execution_count": 1,
   "metadata": {},
   "outputs": [],
   "source": [
    "# API元がサービス終了のためダウンロード不可\n",
    "# from edinet_xbrl.edinet_xbrl_downloader import EdinetXbrlDownloader\n",
    "# ダウンロードは以下から\n",
    "# https://disclosure.edinet-fsa.go.jp/E01EW/BLMainController.jsp?uji.verb=W0EZA230CXP001007BLogic&uji.bean=ee.bean.parent.EECommonSearchBean&TID=W1E63010&PID=currentPage&SESSIONKEY=1598453951859&lgKbn=2&pkbn=0&skbn=1&dskb=&askb=&dflg=0&iflg=0&preId=1&mul=&fls=on&cal=1&era=R&yer=&mon=&pfs=4&row=100&idx=0&str=&kbn=1&flg=&syoruiKanriNo=\n",
    "from edinet_xbrl.edinet_xbrl_parser import EdinetXbrlParser\n",
    "from helper.utils import Utils\n",
    "\n",
    "parser = EdinetXbrlParser()\n",
    "path = \"../xbrls/ZHD.xbrl\"\n",
    "edinet_xbrl_object = parser.parse_file(path)\n",
    "\n",
    "utis = Utils()\n",
    "key_context_dict = utis.get_key_contexts()"
   ]
  },
  {
   "cell_type": "code",
   "execution_count": 2,
   "metadata": {
    "tags": []
   },
   "outputs": [
    {
     "output_type": "stream",
     "name": "stdout",
     "text": "Ｚホールディングス株式会社\n"
    }
   ],
   "source": [
    "# 例\n",
    "key = \"jpdei_cor:FilerNameInJapaneseDEI\"\n",
    "context_ref = \"FilingDateInstant\"\n",
    "current_year_assets = edinet_xbrl_object.get_data_by_context_ref(key, context_ref).get_value()\n",
    "print(current_year_assets)"
   ]
  },
  {
   "cell_type": "code",
   "execution_count": 83,
   "metadata": {},
   "outputs": [],
   "source": [
    "def get_value_of(name: str):\n",
    "    keys = key_context_dict[name][\"key\"]\n",
    "    context_refs = key_context_dict[name][\"context_ref\"]\n",
    "    for key in keys:\n",
    "        for context_ref in context_refs:\n",
    "            xbrl_object = edinet_xbrl_object.get_data_by_context_ref(key, context_ref)\n",
    "            if xbrl_object:\n",
    "                value = xbrl_object.get_value()\n",
    "                try:\n",
    "                    return \"{:,.0f}\".format(float(value))\n",
    "                except:\n",
    "                    return value\n",
    "    return None"
   ]
  },
  {
   "cell_type": "code",
   "execution_count": 84,
   "metadata": {
    "tags": []
   },
   "outputs": [
    {
     "output_type": "stream",
     "name": "stdout",
     "text": "Ｚホールディングス株式会社\n243,278,000,000\n"
    }
   ],
   "source": [
    "print(get_value_of(\"企業名\"))\n",
    "print(get_value_of(\"営業CF\"))"
   ]
  },
  {
   "cell_type": "code",
   "execution_count": null,
   "metadata": {},
   "outputs": [],
   "source": []
  },
  {
   "cell_type": "code",
   "execution_count": null,
   "metadata": {},
   "outputs": [],
   "source": []
  }
 ]
}