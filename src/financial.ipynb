{
 "metadata": {
  "language_info": {
   "codemirror_mode": {
    "name": "ipython",
    "version": 3
   },
   "file_extension": ".py",
   "mimetype": "text/x-python",
   "name": "python",
   "nbconvert_exporter": "python",
   "pygments_lexer": "ipython3",
   "version": "3.8.5-final"
  },
  "orig_nbformat": 2,
  "kernelspec": {
   "name": "python38564bitvenvvenv61f338c2a4714fcfad5eebff43e41361",
   "display_name": "Python 3.8.5 64-bit ('venv': venv)"
  }
 },
 "nbformat": 4,
 "nbformat_minor": 2,
 "cells": [
  {
   "cell_type": "code",
   "execution_count": 1,
   "metadata": {},
   "outputs": [],
   "source": [
    "# API元がサービス終了のためダウンロード不可\n",
    "# from edinet_xbrl.edinet_xbrl_downloader import EdinetXbrlDownloader\n",
    "from edinet_xbrl.edinet_xbrl_parser import EdinetXbrlParser"
   ]
  },
  {
   "cell_type": "code",
   "execution_count": 2,
   "metadata": {
    "tags": []
   },
   "outputs": [
    {
     "output_type": "stream",
     "name": "stdout",
     "text": "1402020000000\n"
    }
   ],
   "source": [
    "parser = EdinetXbrlParser()\n",
    "\n",
    "path = \"../xbrls/ZHD.xbrl\"\n",
    "edinet_xbrl_object = parser.parse_file(path)\n",
    "\n",
    "key = \"jppfs_cor:Assets\"\n",
    "context_ref = \"CurrentYearInstant_NonConsolidatedMember\"\n",
    "current_year_assets = edinet_xbrl_object.get_data_by_context_ref(key, context_ref).get_value()\n",
    "print(current_year_assets)"
   ]
  },
  {
   "cell_type": "code",
   "execution_count": null,
   "metadata": {},
   "outputs": [],
   "source": []
  }
 ]
}